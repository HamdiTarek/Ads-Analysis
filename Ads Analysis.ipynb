{
 "cells": [
  {
   "cell_type": "markdown",
   "metadata": {},
   "source": [
    "<h1 id=\"tocheading\">Table of Contents</h1>\n",
    "<div id=\"toc\"></div>"
   ]
  },
  {
   "cell_type": "code",
   "execution_count": 1,
   "metadata": {
    "collapsed": false
   },
   "outputs": [
    {
     "data": {
      "application/javascript": [
       "$.getScript('https://kmahelona.github.io/ipython_notebook_goodies/ipython_notebook_toc.js')"
      ],
      "text/plain": [
       "<IPython.core.display.Javascript object>"
      ]
     },
     "metadata": {},
     "output_type": "display_data"
    }
   ],
   "source": [
    "%%javascript\n",
    "$.getScript('https://kmahelona.github.io/ipython_notebook_goodies/ipython_notebook_toc.js')"
   ]
  },
  {
   "cell_type": "markdown",
   "metadata": {},
   "source": [
    "# Motivation:"
   ]
  },
  {
   "cell_type": "markdown",
   "metadata": {},
   "source": [
    "Ads industry heavily rely on data science to determine \n",
    "\n",
    "1. which ad to show, \n",
    "2. how much to spend, \n",
    "3. ways to optimize the ad text, \n",
    "4. position of the ad and etc. \n",
    "\n",
    "Many companies spend millions of dollars on ads however they spend little to none on data science targeting ad optimizations. Investing more time and resources on data science will definitely yield better performance from ads and increased revenue to the company. (Major - Google and Facebook)\n",
    "\n",
    "Most of the companies have huge amount of unused data from ads (TBs to PBs). It is imperative, for the benefit of the company, to apply data mining and machine learning techniques for better use of the data by extracting useful information and developing predictive models."
   ]
  },
  {
   "cell_type": "markdown",
   "metadata": {},
   "source": [
    "# Description:"
   ]
  },
  {
   "cell_type": "markdown",
   "metadata": {},
   "source": [
    "XYZ - a food delivery company. It relies on online ads to get customers such as those we see on Google or Facebook.\n",
    "\n",
    "Currently running 40 different ad campaigns and they want to understand the performance and improve them."
   ]
  },
  {
   "cell_type": "markdown",
   "metadata": {},
   "source": [
    "# Objective of the project:"
   ]
  },
  {
   "cell_type": "markdown",
   "metadata": {},
   "source": [
    "Understand the performance of 40 ad campaigns:\n",
    "1. Identify 5 best ad groups. Justify the metric chosen. Explain the pros and cons of the metric.\n",
    "2. For each group predict how many ads will be shown on a particular date (let's say Dec 15). Assume that each group follows its trend.\n",
    "3. Cluster ads into 3 groups:<br>\n",
    "    a. avg_cost_per_click is going up<br>\n",
    "    b. avg_cost_per_click is constant<br>\n",
    "    c. avg_cost_per_click is going down\n",
    "\n"
   ]
  },
  {
   "cell_type": "markdown",
   "metadata": {},
   "source": [
    "# Data Exploration:"
   ]
  },
  {
   "cell_type": "markdown",
   "metadata": {},
   "source": [
    "<b>Parameters:</b>\n",
    "\n",
    "<b>date :</b> All data are aggregated by date <br>\n",
    "\n",
    "<b>shown :</b> Number of ads shown on a given day all over the web. Impressions are free. That is, companies pay only if a user clicks on the ad, not to show it <br>\n",
    "\n",
    "<b>clicked :</b> Number of clicks on the ads. This is what companies pay for. By clicking on\n",
    "the ad, the user is brought to the site <br>\n",
    "\n",
    "<b>converted :</b> Number of conversions on the site coming from ads. To be counted, a conversion has to happen on the same day as the ad click.<br>\n",
    "\n",
    "<b>avg_cost_per_click :</b> On an average, how much it cost each of those clicks <br>\n",
    "\n",
    "<b>total_revenue :</b> How much revenue came from the conversions <br>\n",
    "\n",
    "<b>ad :</b> We have several different ad groups. This shows which ad group we are considering"
   ]
  },
  {
   "cell_type": "code",
   "execution_count": 2,
   "metadata": {
    "collapsed": false
   },
   "outputs": [],
   "source": [
    "% matplotlib inline\n",
    "\n",
    "import pandas as pd\n",
    "import math as m\n",
    "from bdateutil import isbday\n",
    "import holidays\n",
    "from datetime import date"
   ]
  },
  {
   "cell_type": "code",
   "execution_count": 3,
   "metadata": {
    "collapsed": true
   },
   "outputs": [],
   "source": [
    "folder1 = \"C:/Users/venki_k07/Google Drive/Data science - Datasets/Ads_analysis/\"\n",
    "folder2 = \"C:/Users/Venkatesh/Google Drive/Data science - Datasets/Ads_analysis/\""
   ]
  },
  {
   "cell_type": "code",
   "execution_count": 4,
   "metadata": {
    "collapsed": false
   },
   "outputs": [],
   "source": [
    "df = pd.read_csv( folder1 + \"ad_table.csv\" )"
   ]
  },
  {
   "cell_type": "code",
   "execution_count": 12,
   "metadata": {
    "collapsed": false,
    "scrolled": true
   },
   "outputs": [
    {
     "data": {
      "text/html": [
       "<div>\n",
       "<table border=\"1\" class=\"dataframe\">\n",
       "  <thead>\n",
       "    <tr style=\"text-align: right;\">\n",
       "      <th></th>\n",
       "      <th>date</th>\n",
       "      <th>shown</th>\n",
       "      <th>clicked</th>\n",
       "      <th>converted</th>\n",
       "      <th>avg_cost_per_click</th>\n",
       "      <th>total_revenue</th>\n",
       "      <th>ad</th>\n",
       "      <th>clicked_rate</th>\n",
       "      <th>conversion_rate</th>\n",
       "      <th>Wday</th>\n",
       "    </tr>\n",
       "  </thead>\n",
       "  <tbody>\n",
       "    <tr>\n",
       "      <th>0</th>\n",
       "      <td>2015-10-01</td>\n",
       "      <td>65877</td>\n",
       "      <td>2339</td>\n",
       "      <td>43</td>\n",
       "      <td>0.90</td>\n",
       "      <td>641.62</td>\n",
       "      <td>ad_group_1</td>\n",
       "      <td>0.035506</td>\n",
       "      <td>0.018384</td>\n",
       "      <td>True</td>\n",
       "    </tr>\n",
       "    <tr>\n",
       "      <th>1</th>\n",
       "      <td>2015-10-02</td>\n",
       "      <td>65100</td>\n",
       "      <td>2498</td>\n",
       "      <td>38</td>\n",
       "      <td>0.94</td>\n",
       "      <td>756.37</td>\n",
       "      <td>ad_group_1</td>\n",
       "      <td>0.038372</td>\n",
       "      <td>0.015212</td>\n",
       "      <td>True</td>\n",
       "    </tr>\n",
       "    <tr>\n",
       "      <th>2</th>\n",
       "      <td>2015-10-03</td>\n",
       "      <td>70658</td>\n",
       "      <td>2313</td>\n",
       "      <td>49</td>\n",
       "      <td>0.86</td>\n",
       "      <td>970.90</td>\n",
       "      <td>ad_group_1</td>\n",
       "      <td>0.032735</td>\n",
       "      <td>0.021185</td>\n",
       "      <td>False</td>\n",
       "    </tr>\n",
       "    <tr>\n",
       "      <th>3</th>\n",
       "      <td>2015-10-04</td>\n",
       "      <td>69809</td>\n",
       "      <td>2833</td>\n",
       "      <td>51</td>\n",
       "      <td>1.01</td>\n",
       "      <td>907.39</td>\n",
       "      <td>ad_group_1</td>\n",
       "      <td>0.040582</td>\n",
       "      <td>0.018002</td>\n",
       "      <td>False</td>\n",
       "    </tr>\n",
       "    <tr>\n",
       "      <th>4</th>\n",
       "      <td>2015-10-05</td>\n",
       "      <td>68186</td>\n",
       "      <td>2696</td>\n",
       "      <td>41</td>\n",
       "      <td>1.00</td>\n",
       "      <td>879.45</td>\n",
       "      <td>ad_group_1</td>\n",
       "      <td>0.039539</td>\n",
       "      <td>0.015208</td>\n",
       "      <td>True</td>\n",
       "    </tr>\n",
       "  </tbody>\n",
       "</table>\n",
       "</div>"
      ],
      "text/plain": [
       "        date  shown  clicked  converted  avg_cost_per_click  total_revenue  \\\n",
       "0 2015-10-01  65877     2339         43                0.90         641.62   \n",
       "1 2015-10-02  65100     2498         38                0.94         756.37   \n",
       "2 2015-10-03  70658     2313         49                0.86         970.90   \n",
       "3 2015-10-04  69809     2833         51                1.01         907.39   \n",
       "4 2015-10-05  68186     2696         41                1.00         879.45   \n",
       "\n",
       "           ad  clicked_rate  conversion_rate   Wday  \n",
       "0  ad_group_1      0.035506         0.018384   True  \n",
       "1  ad_group_1      0.038372         0.015212   True  \n",
       "2  ad_group_1      0.032735         0.021185  False  \n",
       "3  ad_group_1      0.040582         0.018002  False  \n",
       "4  ad_group_1      0.039539         0.015208   True  "
      ]
     },
     "execution_count": 12,
     "metadata": {},
     "output_type": "execute_result"
    }
   ],
   "source": [
    "df.head()"
   ]
  },
  {
   "cell_type": "code",
   "execution_count": 11,
   "metadata": {
    "collapsed": false
   },
   "outputs": [
    {
     "data": {
      "text/plain": [
       "Index(['date', 'shown', 'clicked', 'converted', 'avg_cost_per_click',\n",
       "       'total_revenue', 'ad', 'clicked_rate', 'conversion_rate', 'Wday'],\n",
       "      dtype='object')"
      ]
     },
     "execution_count": 11,
     "metadata": {},
     "output_type": "execute_result"
    }
   ],
   "source": [
    "df.columns"
   ]
  },
  {
   "cell_type": "code",
   "execution_count": 5,
   "metadata": {
    "collapsed": true
   },
   "outputs": [],
   "source": [
    "df['clicked_rate'] = df['clicked'] / df['shown']\n",
    "df['conversion_rate'] = df['converted'] / df['clicked']"
   ]
  },
  {
   "cell_type": "code",
   "execution_count": 6,
   "metadata": {
    "collapsed": false
   },
   "outputs": [],
   "source": [
    "df['date'] = pd.to_datetime(df['date'])"
   ]
  },
  {
   "cell_type": "code",
   "execution_count": 7,
   "metadata": {
    "collapsed": false
   },
   "outputs": [],
   "source": [
    "US_holidays = holidays.US()\n",
    "df['Wday'] = [isbday(x, US_holidays) for x in df['date']]"
   ]
  },
  {
   "cell_type": "code",
   "execution_count": 8,
   "metadata": {
    "collapsed": false
   },
   "outputs": [
    {
     "data": {
      "text/plain": [
       "(2115, 10)"
      ]
     },
     "execution_count": 8,
     "metadata": {},
     "output_type": "execute_result"
    }
   ],
   "source": [
    "df.shape"
   ]
  },
  {
   "cell_type": "code",
   "execution_count": 9,
   "metadata": {
    "collapsed": false
   },
   "outputs": [
    {
     "data": {
      "text/plain": [
       "array(['ad_group_1', 'ad_group_2', 'ad_group_3', 'ad_group_4',\n",
       "       'ad_group_5', 'ad_group_6', 'ad_group_7', 'ad_group_8',\n",
       "       'ad_group_9', 'ad_group_10', 'ad_group_11', 'ad_group_12',\n",
       "       'ad_group_13', 'ad_group_14', 'ad_group_15', 'ad_group_16',\n",
       "       'ad_group_17', 'ad_group_18', 'ad_group_19', 'ad_group_20',\n",
       "       'ad_group_21', 'ad_group_22', 'ad_group_23', 'ad_group_24',\n",
       "       'ad_group_25', 'ad_group_26', 'ad_group_27', 'ad_group_28',\n",
       "       'ad_group_29', 'ad_group_30', 'ad_group_31', 'ad_group_32',\n",
       "       'ad_group_33', 'ad_group_34', 'ad_group_35', 'ad_group_36',\n",
       "       'ad_group_37', 'ad_group_38', 'ad_group_39', 'ad_group_40'], dtype=object)"
      ]
     },
     "execution_count": 9,
     "metadata": {},
     "output_type": "execute_result"
    }
   ],
   "source": [
    "df['ad'].unique()"
   ]
  },
  {
   "cell_type": "code",
   "execution_count": 10,
   "metadata": {
    "collapsed": true
   },
   "outputs": [
    {
     "data": {
      "text/plain": [
       "ad\n",
       "ad_group_1     53\n",
       "ad_group_10    52\n",
       "ad_group_11    53\n",
       "ad_group_12    53\n",
       "ad_group_13    53\n",
       "ad_group_14    52\n",
       "ad_group_15    53\n",
       "ad_group_16    53\n",
       "ad_group_17    53\n",
       "ad_group_18    52\n",
       "ad_group_19    53\n",
       "ad_group_2     53\n",
       "ad_group_20    52\n",
       "ad_group_21    53\n",
       "ad_group_22    53\n",
       "ad_group_23    53\n",
       "ad_group_24    52\n",
       "ad_group_25    53\n",
       "ad_group_26    53\n",
       "ad_group_27    53\n",
       "ad_group_28    53\n",
       "ad_group_29    53\n",
       "ad_group_3     53\n",
       "ad_group_30    53\n",
       "ad_group_31    53\n",
       "ad_group_32    53\n",
       "ad_group_33    53\n",
       "ad_group_34    53\n",
       "ad_group_35    53\n",
       "ad_group_36    53\n",
       "ad_group_37    53\n",
       "ad_group_38    53\n",
       "ad_group_39    53\n",
       "ad_group_4     53\n",
       "ad_group_40    53\n",
       "ad_group_5     53\n",
       "ad_group_6     53\n",
       "ad_group_7     53\n",
       "ad_group_8     53\n",
       "ad_group_9     53\n",
       "Name: shown, dtype: int64"
      ]
     },
     "execution_count": 10,
     "metadata": {},
     "output_type": "execute_result"
    }
   ],
   "source": [
    "df.groupby('ad')['shown'].count()"
   ]
  },
  {
   "cell_type": "code",
   "execution_count": 22,
   "metadata": {
    "collapsed": false
   },
   "outputs": [
    {
     "data": {
      "text/plain": [
       "<matplotlib.axes._subplots.AxesSubplot at 0x9851320>"
      ]
     },
     "execution_count": 22,
     "metadata": {},
     "output_type": "execute_result"
    },
    {
     "data": {
      "image/png": "[encoded data removed]",
      "text/plain": [
       "<matplotlib.figure.Figure at 0x98600f0>"
      ]
     },
     "metadata": {},
     "output_type": "display_data"
    }
   ],
   "source": [
    "df.ix[df.ad == 'ad_group_1'].plot('date', 'clicked_rate')"
   ]
  },
  {
   "cell_type": "code",
   "execution_count": 24,
   "metadata": {
    "collapsed": false
   },
   "outputs": [
    {
     "data": {
      "text/plain": [
       "<matplotlib.text.Text at 0x1f40dc38080>"
      ]
     },
     "execution_count": 24,
     "metadata": {},
     "output_type": "execute_result"
    },
    {
     "data": {
      "image/png": "[encoded data removed]",
      "text/plain": [
       "<matplotlib.figure.Figure at 0x1f40dfe4a58>"
      ]
     },
     "metadata": {},
     "output_type": "display_data"
    }
   ],
   "source": [
    "ax1 = df.ix[(df.ad == 'ad_group_1') & (df.Wday == 1)].plot.line(x = 'date', y = 'clicked_rate', style = '.', color = 'red', label = 'Weekday')\n",
    "df.ix[(df.ad == 'ad_group_1') & (df.Wday == 0)].plot.line(x = 'date', y = 'clicked_rate', style = '.', ax = ax1, color = 'blue', label = 'Weekend')\n",
    "ax1.set_ylabel('clicked_rate')"
   ]
  },
  {
   "cell_type": "code",
   "execution_count": 25,
   "metadata": {
    "collapsed": false
   },
   "outputs": [
    {
     "data": {
      "text/plain": [
       "<matplotlib.text.Text at 0x1f40c50fc88>"
      ]
     },
     "execution_count": 25,
     "metadata": {},
     "output_type": "execute_result"
    },
    {
     "data": {
      "image/png": "[encoded data removed]",
      "text/plain": [
       "<matplotlib.figure.Figure at 0x1f40c4e6080>"
      ]
     },
     "metadata": {},
     "output_type": "display_data"
    }
   ],
   "source": [
    "ax1 = df.ix[(df.ad == 'ad_group_1') & (df.Wday == 1)].plot.line(x = 'date', y = 'conversion_rate', style = '.', color = 'red', label = 'Weekday')\n",
    "df.ix[(df.ad == 'ad_group_1') & (df.Wday == 0)].plot.line(x = 'date', y = 'conversion_rate', style = '.', ax = ax1, color = 'blue', label = 'Weekend')\n",
    "ax1.set_ylabel('conversion_rate')"
   ]
  },
  {
   "cell_type": "markdown",
   "metadata": {},
   "source": [
    "### A/B testing:"
   ]
  },
  {
   "cell_type": "markdown",
   "metadata": {},
   "source": [
    "Applying A/B testing to determine whether the clicked_rate during weekend is statistiscally different from weekday or not"
   ]
  },
  {
   "cell_type": "code",
   "execution_count": 27,
   "metadata": {
    "collapsed": false
   },
   "outputs": [
    {
     "data": {
      "text/plain": [
       "count    35.000000\n",
       "mean      0.038847\n",
       "std       0.003424\n",
       "min       0.031818\n",
       "25%       0.036412\n",
       "50%       0.038487\n",
       "75%       0.041064\n",
       "max       0.046905\n",
       "Name: clicked_rate, dtype: float64"
      ]
     },
     "execution_count": 27,
     "metadata": {},
     "output_type": "execute_result"
    }
   ],
   "source": [
    "df.ix[(df.ad == 'ad_group_1') & (df.Wday == 1), 'clicked_rate'].describe()"
   ]
  },
  {
   "cell_type": "code",
   "execution_count": 33,
   "metadata": {
    "collapsed": false
   },
   "outputs": [
    {
     "name": "stdout",
     "output_type": "stream",
     "text": [
      "Skewness: 0.283738378732\n",
      "Kurtosis: -0.167111482595\n"
     ]
    }
   ],
   "source": [
    "print(\"Skewness:\", df.ix[(df.ad == 'ad_group_1') & (df.Wday == 1), 'clicked_rate'].skew())\n",
    "print(\"Kurtosis:\", df.ix[(df.ad == 'ad_group_1') & (df.Wday == 1), 'clicked_rate'].kurtosis())"
   ]
  },
  {
   "cell_type": "code",
   "execution_count": 28,
   "metadata": {
    "collapsed": false
   },
   "outputs": [
    {
     "data": {
      "text/plain": [
       "count    18.000000\n",
       "mean      0.039308\n",
       "std       0.003586\n",
       "min       0.032735\n",
       "25%       0.037616\n",
       "50%       0.039843\n",
       "75%       0.040866\n",
       "max       0.047029\n",
       "Name: clicked_rate, dtype: float64"
      ]
     },
     "execution_count": 28,
     "metadata": {},
     "output_type": "execute_result"
    }
   ],
   "source": [
    "df.ix[(df.ad == 'ad_group_1') & (df.Wday == 0), 'clicked_rate'].describe()"
   ]
  },
  {
   "cell_type": "markdown",
   "metadata": {
    "collapsed": true
   },
   "source": [
    "<b>Hypothesis:</b><br>\n",
    "    <tab>Null hypothesis        H0: No difference in clicked_rates <br>\n",
    "    <tab>Alternative hypothesis H1: Statistically significant difference between clicked_rates <br>\n",
    "    \n",
    "Assumed p = 0.05 and power = 0.2"
   ]
  },
  {
   "cell_type": "code",
   "execution_count": 34,
   "metadata": {
    "collapsed": true
   },
   "outputs": [],
   "source": [
    "clicked_weekday = df.ix[(df.ad == 'ad_group_1') & (df.Wday == 1), 'clicked_rate']\n",
    "clicked_weekend = df.ix[(df.ad == 'ad_group_1') & (df.Wday == 0), 'clicked_rate']"
   ]
  },
  {
   "cell_type": "markdown",
   "metadata": {
    "collapsed": true
   },
   "source": [
    "Parameters required for calculating p-value and 1-power:\n",
    "    <br>p-value: probability of not rejecting the null-hypothesis ( > 0.05 )</br>\n",
    "    <br>Power (1-tolerance): Probability of not accepting the alternative hypothesis ( > 0.8 )</br>"
   ]
  },
  {
   "cell_type": "code",
   "execution_count": null,
   "metadata": {
    "collapsed": true
   },
   "outputs": [],
   "source": []
  }
 ],
 "metadata": {
  "anaconda-cloud": {},
  "kernelspec": {
   "display_name": "Python [default]",
   "language": "python",
   "name": "python3"
  },
  "language_info": {
   "codemirror_mode": {
    "name": "ipython",
    "version": 3
   },
   "file_extension": ".py",
   "mimetype": "text/x-python",
   "name": "python",
   "nbconvert_exporter": "python",
   "pygments_lexer": "ipython3",
   "version": "3.5.2"
  }
 },
 "nbformat": 4,
 "nbformat_minor": 1
}
